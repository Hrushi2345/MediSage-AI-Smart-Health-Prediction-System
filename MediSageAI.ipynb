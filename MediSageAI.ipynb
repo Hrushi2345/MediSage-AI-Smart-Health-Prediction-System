{
 "cells": [
  {
   "cell_type": "markdown",
   "id": "03b173aa",
   "metadata": {},
   "source": [
    "# Import Required Libraries\n"
   ]
  },
  {
   "cell_type": "code",
   "execution_count": 1,
   "id": "e06cafae",
   "metadata": {},
   "outputs": [],
   "source": [
    "import pandas as pd\n",
    "import numpy as np\n",
    "from sklearn.model_selection import train_test_split\n",
    "from sklearn.ensemble import RandomForestClassifier\n",
    "from sklearn.metrics import accuracy_score"
   ]
  },
  {
   "cell_type": "markdown",
   "id": "37bae97e",
   "metadata": {},
   "source": [
    "# Load Datasets"
   ]
  },
  {
   "cell_type": "code",
   "execution_count": 2,
   "id": "be67cb7d",
   "metadata": {},
   "outputs": [],
   "source": [
    "training_df = pd.read_csv(\"Training.csv\")\n",
    "symptom_severity_df = pd.read_csv(\"Symptom-severity.csv\")\n",
    "description_df = pd.read_csv(\"description.csv\")\n",
    "precautions_df = pd.read_csv(\"precautions_df.csv\")\n",
    "medications_df = pd.read_csv(\"medications.csv\")\n",
    "diets_df = pd.read_csv(\"diets.csv\")\n",
    "workout_df = pd.read_csv(\"workout_df.csv\")"
   ]
  },
  {
   "cell_type": "markdown",
   "id": "8a269faa",
   "metadata": {},
   "source": [
    "# Prepare training data"
   ]
  },
  {
   "cell_type": "code",
   "execution_count": 3,
   "id": "e29bc689",
   "metadata": {},
   "outputs": [],
   "source": [
    "X = training_df.drop(columns=[\"prognosis\"])\n",
    "y = training_df[\"prognosis\"]\n",
    "X_train, X_test, y_train, y_test = train_test_split(X, y, test_size=0.2, random_state=42)"
   ]
  },
  {
   "cell_type": "markdown",
   "id": "bb34ad7d",
   "metadata": {},
   "source": [
    "# Train model"
   ]
  },
  {
   "cell_type": "code",
   "execution_count": 4,
   "id": "14ea0b98",
   "metadata": {},
   "outputs": [
    {
     "data": {
      "text/html": [
       "<style>#sk-container-id-1 {color: black;}#sk-container-id-1 pre{padding: 0;}#sk-container-id-1 div.sk-toggleable {background-color: white;}#sk-container-id-1 label.sk-toggleable__label {cursor: pointer;display: block;width: 100%;margin-bottom: 0;padding: 0.3em;box-sizing: border-box;text-align: center;}#sk-container-id-1 label.sk-toggleable__label-arrow:before {content: \"▸\";float: left;margin-right: 0.25em;color: #696969;}#sk-container-id-1 label.sk-toggleable__label-arrow:hover:before {color: black;}#sk-container-id-1 div.sk-estimator:hover label.sk-toggleable__label-arrow:before {color: black;}#sk-container-id-1 div.sk-toggleable__content {max-height: 0;max-width: 0;overflow: hidden;text-align: left;background-color: #f0f8ff;}#sk-container-id-1 div.sk-toggleable__content pre {margin: 0.2em;color: black;border-radius: 0.25em;background-color: #f0f8ff;}#sk-container-id-1 input.sk-toggleable__control:checked~div.sk-toggleable__content {max-height: 200px;max-width: 100%;overflow: auto;}#sk-container-id-1 input.sk-toggleable__control:checked~label.sk-toggleable__label-arrow:before {content: \"▾\";}#sk-container-id-1 div.sk-estimator input.sk-toggleable__control:checked~label.sk-toggleable__label {background-color: #d4ebff;}#sk-container-id-1 div.sk-label input.sk-toggleable__control:checked~label.sk-toggleable__label {background-color: #d4ebff;}#sk-container-id-1 input.sk-hidden--visually {border: 0;clip: rect(1px 1px 1px 1px);clip: rect(1px, 1px, 1px, 1px);height: 1px;margin: -1px;overflow: hidden;padding: 0;position: absolute;width: 1px;}#sk-container-id-1 div.sk-estimator {font-family: monospace;background-color: #f0f8ff;border: 1px dotted black;border-radius: 0.25em;box-sizing: border-box;margin-bottom: 0.5em;}#sk-container-id-1 div.sk-estimator:hover {background-color: #d4ebff;}#sk-container-id-1 div.sk-parallel-item::after {content: \"\";width: 100%;border-bottom: 1px solid gray;flex-grow: 1;}#sk-container-id-1 div.sk-label:hover label.sk-toggleable__label {background-color: #d4ebff;}#sk-container-id-1 div.sk-serial::before {content: \"\";position: absolute;border-left: 1px solid gray;box-sizing: border-box;top: 0;bottom: 0;left: 50%;z-index: 0;}#sk-container-id-1 div.sk-serial {display: flex;flex-direction: column;align-items: center;background-color: white;padding-right: 0.2em;padding-left: 0.2em;position: relative;}#sk-container-id-1 div.sk-item {position: relative;z-index: 1;}#sk-container-id-1 div.sk-parallel {display: flex;align-items: stretch;justify-content: center;background-color: white;position: relative;}#sk-container-id-1 div.sk-item::before, #sk-container-id-1 div.sk-parallel-item::before {content: \"\";position: absolute;border-left: 1px solid gray;box-sizing: border-box;top: 0;bottom: 0;left: 50%;z-index: -1;}#sk-container-id-1 div.sk-parallel-item {display: flex;flex-direction: column;z-index: 1;position: relative;background-color: white;}#sk-container-id-1 div.sk-parallel-item:first-child::after {align-self: flex-end;width: 50%;}#sk-container-id-1 div.sk-parallel-item:last-child::after {align-self: flex-start;width: 50%;}#sk-container-id-1 div.sk-parallel-item:only-child::after {width: 0;}#sk-container-id-1 div.sk-dashed-wrapped {border: 1px dashed gray;margin: 0 0.4em 0.5em 0.4em;box-sizing: border-box;padding-bottom: 0.4em;background-color: white;}#sk-container-id-1 div.sk-label label {font-family: monospace;font-weight: bold;display: inline-block;line-height: 1.2em;}#sk-container-id-1 div.sk-label-container {text-align: center;}#sk-container-id-1 div.sk-container {/* jupyter's `normalize.less` sets `[hidden] { display: none; }` but bootstrap.min.css set `[hidden] { display: none !important; }` so we also need the `!important` here to be able to override the default hidden behavior on the sphinx rendered scikit-learn.org. See: https://github.com/scikit-learn/scikit-learn/issues/21755 */display: inline-block !important;position: relative;}#sk-container-id-1 div.sk-text-repr-fallback {display: none;}</style><div id=\"sk-container-id-1\" class=\"sk-top-container\"><div class=\"sk-text-repr-fallback\"><pre>RandomForestClassifier(random_state=42)</pre><b>In a Jupyter environment, please rerun this cell to show the HTML representation or trust the notebook. <br />On GitHub, the HTML representation is unable to render, please try loading this page with nbviewer.org.</b></div><div class=\"sk-container\" hidden><div class=\"sk-item\"><div class=\"sk-estimator sk-toggleable\"><input class=\"sk-toggleable__control sk-hidden--visually\" id=\"sk-estimator-id-1\" type=\"checkbox\" checked><label for=\"sk-estimator-id-1\" class=\"sk-toggleable__label sk-toggleable__label-arrow\">RandomForestClassifier</label><div class=\"sk-toggleable__content\"><pre>RandomForestClassifier(random_state=42)</pre></div></div></div></div></div>"
      ],
      "text/plain": [
       "RandomForestClassifier(random_state=42)"
      ]
     },
     "execution_count": 4,
     "metadata": {},
     "output_type": "execute_result"
    }
   ],
   "source": [
    "model = RandomForestClassifier(random_state=42)\n",
    "model.fit(X_train, y_train)"
   ]
  },
  {
   "cell_type": "markdown",
   "id": "4f698a88",
   "metadata": {},
   "source": [
    "# Evaluate the Model"
   ]
  },
  {
   "cell_type": "code",
   "execution_count": 5,
   "id": "a90fa68c",
   "metadata": {},
   "outputs": [
    {
     "name": "stdout",
     "output_type": "stream",
     "text": [
      "Model trained successfully with accuracy: 1.00\n"
     ]
    }
   ],
   "source": [
    "y_pred = model.predict(X_test)\n",
    "accuracy = accuracy_score(y_test, y_pred)\n",
    "print(f\"Model trained successfully with accuracy: {accuracy:.2f}\")"
   ]
  },
  {
   "cell_type": "markdown",
   "id": "f8a0d0df",
   "metadata": {},
   "source": [
    "# Utility functions"
   ]
  },
  {
   "cell_type": "code",
   "execution_count": 6,
   "id": "f21f0c08",
   "metadata": {},
   "outputs": [],
   "source": [
    "# List of available symptoms for validation\n",
    "available_symptoms = X.columns.tolist()\n",
    "\n",
    "def predict_disease(symptoms):\n",
    "    \"\"\"\n",
    "    Predict the disease based on user-input symptoms.\n",
    "    \"\"\"\n",
    "    # Convert symptoms to binary input for the model\n",
    "    input_vector = np.zeros(len(X.columns))\n",
    "    unrecognized_symptoms = []\n",
    "    \n",
    "    for symptom in symptoms:\n",
    "        normalized_symptom = symptom.replace(\" \", \"_\").strip().lower()\n",
    "        if normalized_symptom in X.columns:\n",
    "            input_vector[X.columns.get_loc(normalized_symptom)] = 1\n",
    "        else:\n",
    "            unrecognized_symptoms.append(symptom)\n",
    "\n",
    "    if unrecognized_symptoms:\n",
    "        print(f\"\\nWarning: The following symptoms were not recognized: {', '.join(unrecognized_symptoms)}\")\n",
    "        print(f\"Available symptoms: {', '.join(available_symptoms)}\")\n",
    "\n",
    "    input_vector = input_vector.reshape(1, -1)\n",
    "    predicted_disease = model.predict(input_vector)[0]\n",
    "    confidence = np.max(model.predict_proba(input_vector))\n",
    "    return predicted_disease, confidence\n",
    "\n",
    "def provide_recommendations(disease):\n",
    "    \"\"\"\n",
    "    Provide recommendations based on the predicted disease.\n",
    "    \"\"\"\n",
    "    print(f\"\\nPredicted Disease: {disease}\")\n",
    "    \n",
    "    # Description\n",
    "    description = description_df.loc[description_df[\"Disease\"] == disease, \"Description\"].values\n",
    "    if description.size > 0:\n",
    "        print(f\"Description: {description[0]}\")\n",
    "    else:\n",
    "        print(\"Description: No description available.\")\n",
    "\n",
    "    # Precautions\n",
    "    precautions = precautions_df.loc[precautions_df[\"Disease\"] == disease].values\n",
    "    if precautions.size > 0:\n",
    "        print(\"Precautions:\")\n",
    "        for i in range(1, 5):\n",
    "            if precautions[0][i]:  # Skip empty precautions\n",
    "                print(f\"- {precautions[0][i]}\")\n",
    "    else:\n",
    "        print(\"Precautions: No precautions available.\")\n",
    "\n",
    "    # Medications\n",
    "    medications = medications_df.loc[medications_df[\"Disease\"] == disease, \"Medication\"].values\n",
    "    if medications.size > 0:\n",
    "        print(f\"Medications: {medications[0]}\")\n",
    "    else:\n",
    "        print(\"Medications: No medications available.\")\n",
    "\n",
    "    # Diet\n",
    "    diet = diets_df.loc[diets_df[\"Disease\"] == disease, \"Diet\"].values\n",
    "    if diet.size > 0:\n",
    "        print(f\"Diet: {diet[0]}\")\n",
    "    else:\n",
    "        print(\"Diet: No diet information available.\")\n",
    "\n",
    "    # Workout\n",
    "    workout = workout_df.loc[workout_df[\"disease\"] == disease, \"workout\"].values\n",
    "    if workout.size > 0:\n",
    "        print(f\"Workout: {workout[0]}\")\n",
    "    else:\n",
    "        print(\"Workout: No workout information available.\")"
   ]
  },
  {
   "cell_type": "markdown",
   "id": "5a85161e",
   "metadata": {},
   "source": [
    "# Main function to interact with the user"
   ]
  },
  {
   "cell_type": "code",
   "execution_count": null,
   "id": "a1ce6ff1",
   "metadata": {},
   "outputs": [
    {
     "name": "stdout",
     "output_type": "stream",
     "text": [
      "Welcome to the Disease Predictor!\n"
     ]
    }
   ],
   "source": [
    "def main():\n",
    "    \"\"\"\n",
    "    Main function to get user input and process it.\n",
    "    \"\"\"\n",
    "    print(\"Welcome to the Disease Predictor!\")\n",
    "    input_symptoms = input(\"Enter symptoms separated by commas: \").strip().lower().split(\",\")\n",
    "    input_symptoms = [symptom.strip() for symptom in input_symptoms]\n",
    "    \n",
    "    print(f\"\\nProcessing symptoms: {input_symptoms}\")\n",
    "    predicted_disease, confidence = predict_disease(input_symptoms)\n",
    "    \n",
    "    if confidence < 0.5:\n",
    "        print(f\"\\nPrediction confidence is low ({confidence:.2f}). Results may not be accurate.\")\n",
    "    print(f\"\\nPredicted Disease: {predicted_disease} (Confidence: {confidence:.2f})\")\n",
    "    provide_recommendations(predicted_disease)\n",
    "\n",
    "if __name__ == \"__main__\":\n",
    "    main()"
   ]
  },
  {
   "cell_type": "code",
   "execution_count": null,
   "id": "f44029c1",
   "metadata": {},
   "outputs": [],
   "source": []
  }
 ],
 "metadata": {
  "kernelspec": {
   "display_name": "Python 3 (ipykernel)",
   "language": "python",
   "name": "python3"
  },
  "language_info": {
   "codemirror_mode": {
    "name": "ipython",
    "version": 3
   },
   "file_extension": ".py",
   "mimetype": "text/x-python",
   "name": "python",
   "nbconvert_exporter": "python",
   "pygments_lexer": "ipython3",
   "version": "3.11.5"
  }
 },
 "nbformat": 4,
 "nbformat_minor": 5
}
